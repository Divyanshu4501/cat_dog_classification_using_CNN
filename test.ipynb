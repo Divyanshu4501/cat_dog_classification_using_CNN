{
 "cells": [
  {
   "cell_type": "code",
   "execution_count": 2,
   "id": "e7337a1c",
   "metadata": {},
   "outputs": [],
   "source": [
    "import tensorflow as tf\n",
    "from tensorflow import keras\n",
    "from keras import models\n",
    "\n",
    "model = models.load_model(\"cnn.keras\")"
   ]
  },
  {
   "cell_type": "code",
   "execution_count": null,
   "id": "cc6d921a",
   "metadata": {},
   "outputs": [],
   "source": [
    "model.pre"
   ]
  }
 ],
 "metadata": {
  "kernelspec": {
   "display_name": "venv",
   "language": "python",
   "name": "python3"
  },
  "language_info": {
   "codemirror_mode": {
    "name": "ipython",
    "version": 3
   },
   "file_extension": ".py",
   "mimetype": "text/x-python",
   "name": "python",
   "nbconvert_exporter": "python",
   "pygments_lexer": "ipython3",
   "version": "3.12.11"
  }
 },
 "nbformat": 4,
 "nbformat_minor": 5
}
